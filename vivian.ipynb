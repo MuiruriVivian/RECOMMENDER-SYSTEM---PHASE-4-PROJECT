{
  "cells": [
    {
      "cell_type": "markdown",
      "source": [
        "# BUILDING A PERSONALIZED MOVIE RECOMMENDATION SYSTEM\n",
        "---\n",
        "COLLABORATIVE AND CONTENT-BASED FILTERING"
      ],
      "metadata": {
        "id": "7ee3zTNCE1EI"
      }
    },
    {
      "cell_type": "markdown",
      "source": [
        "## BUSINESS PROBLEM:\n",
        "---\n",
        "\n",
        "\n",
        "In today's digital world, users are overwhelmed with vast amounts of content, whether it's movies, products, music, or news articles. Businesses struggle to keep users engaged by providing personalized recommendations. Without an effective recommender system, customers may churn, engagement may decline, and businesses may lose revenue opportunities.\n",
        "\n",
        "\n",
        "For example, in an online movie streaming platform, users need relevant and personalized movie recommendations based on their viewing history and preferences. A poor recommendation system may result in users struggling to find interesting content, leading to lower customer satisfaction and reduced subscription retention.\n",
        "\n",
        "## OBJECTIVES\n",
        "---\n",
        "\n",
        "\n",
        "By implementing an effective recommender system, businesses can:\n",
        "\n",
        "1. Increase user engagement and retention.\n",
        "\n",
        "2. Improve customer satisfaction by offering relevant recommendations.\n",
        "\n",
        "3. Enhance revenue opportunities through personalized marketing.\n",
        "\n",
        "\n",
        "\n",
        "## GOALS\n",
        "---\n",
        "\n",
        "The goal of this study is to develop a personalized recommendation system that improves user experience and engagement by suggesting relevant content based on past interactions. This will be achieved using:\n",
        "\n",
        "1. Collaborative Filtering: Predict user preferences based on similar users.\n",
        "\n",
        "2. Content-Based Filtering: Recommend items similar to what a user has liked before.\n",
        "\n",
        "3. Hybrid Approach (Optional): Combine multiple recommendation techniques for better accuracy.\n",
        "\n",
        "4. Performance Evaluation: Assess the effectiveness of different models using evaluation metrics such as RMSE (Root Mean Squared Error) and Cosine Similarity"
      ],
      "metadata": {
        "id": "ROyA-BI2FMgG"
      }
    },
    {
      "cell_type": "markdown",
      "metadata": {
        "id": "tJ9e1bU2jBes"
      },
      "source": [
        "## IMPORTING THE NECCESSRY LIBRARIES\n",
        "---\n",
        "\n",
        "*  Import necessary libraries for data handling, visualization, and modeling.\n",
        "\n"
      ]
    },
    {
      "cell_type": "code",
      "execution_count": 5,
      "metadata": {
        "colab": {
          "base_uri": "https://localhost:8080/"
        },
        "id": "7FMDkqA5jkZb",
        "outputId": "8049d1a3-771d-4316-9550-989a7cda6149"
      },
      "outputs": [
        {
          "output_type": "stream",
          "name": "stdout",
          "text": [
            "Requirement already satisfied: surprise in /usr/local/lib/python3.11/dist-packages (0.1)\n",
            "Requirement already satisfied: scikit-surprise in /usr/local/lib/python3.11/dist-packages (from surprise) (1.1.4)\n",
            "Requirement already satisfied: joblib>=1.2.0 in /usr/local/lib/python3.11/dist-packages (from scikit-surprise->surprise) (1.4.2)\n",
            "Requirement already satisfied: numpy>=1.19.5 in /usr/local/lib/python3.11/dist-packages (from scikit-surprise->surprise) (1.26.4)\n",
            "Requirement already satisfied: scipy>=1.6.0 in /usr/local/lib/python3.11/dist-packages (from scikit-surprise->surprise) (1.13.1)\n"
          ]
        }
      ],
      "source": [
        "!pip install surprise\n",
        "\n",
        "import pandas as pd\n",
        "import matplotlib.pyplot as plt\n",
        "import seaborn as sns\n",
        "import numpy as np\n",
        "import sklearn.metrics as metrics\n",
        "import warnings\n",
        "warnings.filterwarnings('ignore')\n",
        "\n",
        "from sklearn.cluster import KMeans, AgglomerativeClustering\n",
        "from sklearn.metrics import silhouette_score\n",
        "from sklearn.preprocessing import StandardScaler\n",
        "from surprise.prediction_algorithms import knns\n",
        "from surprise import Reader, Dataset, SVD, KNNBasic, accuracy\n",
        "from surprise.model_selection import train_test_split\n",
        "from sklearn.metrics.pairwise import cosine_similarity\n",
        "from sklearn.feature_extraction.text import TfidfVectorizer"
      ]
    },
    {
      "cell_type": "markdown",
      "metadata": {
        "id": "_wVbVi9wjBey"
      },
      "source": [
        "## LOADING THE DATASET\n",
        "---\n",
        "*   Read and explore the dataset.\n"
      ]
    },
    {
      "cell_type": "code",
      "execution_count": 3,
      "metadata": {
        "colab": {
          "base_uri": "https://localhost:8080/"
        },
        "id": "TtrqJq8jjBey",
        "outputId": "8f3b3f87-eb95-4888-d105-adb2148b0323"
      },
      "outputs": [
        {
          "output_type": "stream",
          "name": "stdout",
          "text": [
            "(9742, 3)\n",
            "(9742, 3)\n",
            "(100836, 4)\n"
          ]
        }
      ],
      "source": [
        "# upload links datasets\n",
        "links = pd.read_csv(\"links.csv\")\n",
        "print(links.shape)\n",
        "# links.head(5)\n",
        "\n",
        "#upload movies dataset\n",
        "movies = pd.read_csv(\"movies.csv\")\n",
        "print(movies.shape)\n",
        "# movies.head(5)\n",
        "\n",
        "# upload ratings dataset\n",
        "ratings = pd.read_csv(\"ratings.csv\")\n",
        "print(ratings.shape)\n",
        "#ratings.head(5)\n"
      ]
    },
    {
      "cell_type": "code",
      "source": [],
      "metadata": {
        "colab": {
          "base_uri": "https://localhost:8080/"
        },
        "id": "WC05hgNW8Itp",
        "outputId": "d57c9f0d-99f2-4315-e53d-b14c931c9895"
      },
      "execution_count": 10,
      "outputs": [
        {
          "output_type": "execute_result",
          "data": {
            "text/plain": [
              "(9742, 23)"
            ]
          },
          "metadata": {},
          "execution_count": 10
        }
      ]
    },
    {
      "cell_type": "markdown",
      "source": [
        "## DATA CLEANING\n",
        "\n",
        "*   Merging the Datasets\n",
        "*   Drop the irrelevant columns\n",
        "*   Handle missing data.\n",
        "*   Remove duplicate records, if any.\n",
        "*   Clean or transform data types as necessary."
      ],
      "metadata": {
        "id": "RQbjvC8CHsTG"
      }
    },
    {
      "cell_type": "code",
      "source": [
        "# Merge links and movies dataset using 'movieId'\n",
        "links_movies = pd.merge(links, movies, on=\"movieId\", how=\"inner\")\n",
        "\n",
        "# Now merge the result with ratings using 'movieId'\n",
        "links_movies_ratings = pd.merge(links_movies, ratings, on=\"movieId\", how=\"inner\")\n",
        "\n",
        "# Print shapes and display the first few rows\n",
        "print(links_movies_ratings.shape)\n",
        "\n",
        "# view the dataset\n",
        "links_movies_ratings.head(5)"
      ],
      "metadata": {
        "colab": {
          "base_uri": "https://localhost:8080/",
          "height": 224
        },
        "id": "7J_0li0kHxt3",
        "outputId": "57e8c0c1-aadc-4519-fe80-d4516336f5d1"
      },
      "execution_count": 5,
      "outputs": [
        {
          "output_type": "stream",
          "name": "stdout",
          "text": [
            "(100836, 8)\n"
          ]
        },
        {
          "output_type": "execute_result",
          "data": {
            "text/plain": [
              "   movieId  imdbId  tmdbId             title  \\\n",
              "0        1  114709   862.0  Toy Story (1995)   \n",
              "1        1  114709   862.0  Toy Story (1995)   \n",
              "2        1  114709   862.0  Toy Story (1995)   \n",
              "3        1  114709   862.0  Toy Story (1995)   \n",
              "4        1  114709   862.0  Toy Story (1995)   \n",
              "\n",
              "                                        genres  userId  rating   timestamp  \n",
              "0  Adventure|Animation|Children|Comedy|Fantasy       1     4.0   964982703  \n",
              "1  Adventure|Animation|Children|Comedy|Fantasy       5     4.0   847434962  \n",
              "2  Adventure|Animation|Children|Comedy|Fantasy       7     4.5  1106635946  \n",
              "3  Adventure|Animation|Children|Comedy|Fantasy      15     2.5  1510577970  \n",
              "4  Adventure|Animation|Children|Comedy|Fantasy      17     4.5  1305696483  "
            ],
            "text/html": [
              "\n",
              "  <div id=\"df-60f63afc-1083-4008-a871-13e92354307a\" class=\"colab-df-container\">\n",
              "    <div>\n",
              "<style scoped>\n",
              "    .dataframe tbody tr th:only-of-type {\n",
              "        vertical-align: middle;\n",
              "    }\n",
              "\n",
              "    .dataframe tbody tr th {\n",
              "        vertical-align: top;\n",
              "    }\n",
              "\n",
              "    .dataframe thead th {\n",
              "        text-align: right;\n",
              "    }\n",
              "</style>\n",
              "<table border=\"1\" class=\"dataframe\">\n",
              "  <thead>\n",
              "    <tr style=\"text-align: right;\">\n",
              "      <th></th>\n",
              "      <th>movieId</th>\n",
              "      <th>imdbId</th>\n",
              "      <th>tmdbId</th>\n",
              "      <th>title</th>\n",
              "      <th>genres</th>\n",
              "      <th>userId</th>\n",
              "      <th>rating</th>\n",
              "      <th>timestamp</th>\n",
              "    </tr>\n",
              "  </thead>\n",
              "  <tbody>\n",
              "    <tr>\n",
              "      <th>0</th>\n",
              "      <td>1</td>\n",
              "      <td>114709</td>\n",
              "      <td>862.0</td>\n",
              "      <td>Toy Story (1995)</td>\n",
              "      <td>Adventure|Animation|Children|Comedy|Fantasy</td>\n",
              "      <td>1</td>\n",
              "      <td>4.0</td>\n",
              "      <td>964982703</td>\n",
              "    </tr>\n",
              "    <tr>\n",
              "      <th>1</th>\n",
              "      <td>1</td>\n",
              "      <td>114709</td>\n",
              "      <td>862.0</td>\n",
              "      <td>Toy Story (1995)</td>\n",
              "      <td>Adventure|Animation|Children|Comedy|Fantasy</td>\n",
              "      <td>5</td>\n",
              "      <td>4.0</td>\n",
              "      <td>847434962</td>\n",
              "    </tr>\n",
              "    <tr>\n",
              "      <th>2</th>\n",
              "      <td>1</td>\n",
              "      <td>114709</td>\n",
              "      <td>862.0</td>\n",
              "      <td>Toy Story (1995)</td>\n",
              "      <td>Adventure|Animation|Children|Comedy|Fantasy</td>\n",
              "      <td>7</td>\n",
              "      <td>4.5</td>\n",
              "      <td>1106635946</td>\n",
              "    </tr>\n",
              "    <tr>\n",
              "      <th>3</th>\n",
              "      <td>1</td>\n",
              "      <td>114709</td>\n",
              "      <td>862.0</td>\n",
              "      <td>Toy Story (1995)</td>\n",
              "      <td>Adventure|Animation|Children|Comedy|Fantasy</td>\n",
              "      <td>15</td>\n",
              "      <td>2.5</td>\n",
              "      <td>1510577970</td>\n",
              "    </tr>\n",
              "    <tr>\n",
              "      <th>4</th>\n",
              "      <td>1</td>\n",
              "      <td>114709</td>\n",
              "      <td>862.0</td>\n",
              "      <td>Toy Story (1995)</td>\n",
              "      <td>Adventure|Animation|Children|Comedy|Fantasy</td>\n",
              "      <td>17</td>\n",
              "      <td>4.5</td>\n",
              "      <td>1305696483</td>\n",
              "    </tr>\n",
              "  </tbody>\n",
              "</table>\n",
              "</div>\n",
              "    <div class=\"colab-df-buttons\">\n",
              "\n",
              "  <div class=\"colab-df-container\">\n",
              "    <button class=\"colab-df-convert\" onclick=\"convertToInteractive('df-60f63afc-1083-4008-a871-13e92354307a')\"\n",
              "            title=\"Convert this dataframe to an interactive table.\"\n",
              "            style=\"display:none;\">\n",
              "\n",
              "  <svg xmlns=\"http://www.w3.org/2000/svg\" height=\"24px\" viewBox=\"0 -960 960 960\">\n",
              "    <path d=\"M120-120v-720h720v720H120Zm60-500h600v-160H180v160Zm220 220h160v-160H400v160Zm0 220h160v-160H400v160ZM180-400h160v-160H180v160Zm440 0h160v-160H620v160ZM180-180h160v-160H180v160Zm440 0h160v-160H620v160Z\"/>\n",
              "  </svg>\n",
              "    </button>\n",
              "\n",
              "  <style>\n",
              "    .colab-df-container {\n",
              "      display:flex;\n",
              "      gap: 12px;\n",
              "    }\n",
              "\n",
              "    .colab-df-convert {\n",
              "      background-color: #E8F0FE;\n",
              "      border: none;\n",
              "      border-radius: 50%;\n",
              "      cursor: pointer;\n",
              "      display: none;\n",
              "      fill: #1967D2;\n",
              "      height: 32px;\n",
              "      padding: 0 0 0 0;\n",
              "      width: 32px;\n",
              "    }\n",
              "\n",
              "    .colab-df-convert:hover {\n",
              "      background-color: #E2EBFA;\n",
              "      box-shadow: 0px 1px 2px rgba(60, 64, 67, 0.3), 0px 1px 3px 1px rgba(60, 64, 67, 0.15);\n",
              "      fill: #174EA6;\n",
              "    }\n",
              "\n",
              "    .colab-df-buttons div {\n",
              "      margin-bottom: 4px;\n",
              "    }\n",
              "\n",
              "    [theme=dark] .colab-df-convert {\n",
              "      background-color: #3B4455;\n",
              "      fill: #D2E3FC;\n",
              "    }\n",
              "\n",
              "    [theme=dark] .colab-df-convert:hover {\n",
              "      background-color: #434B5C;\n",
              "      box-shadow: 0px 1px 3px 1px rgba(0, 0, 0, 0.15);\n",
              "      filter: drop-shadow(0px 1px 2px rgba(0, 0, 0, 0.3));\n",
              "      fill: #FFFFFF;\n",
              "    }\n",
              "  </style>\n",
              "\n",
              "    <script>\n",
              "      const buttonEl =\n",
              "        document.querySelector('#df-60f63afc-1083-4008-a871-13e92354307a button.colab-df-convert');\n",
              "      buttonEl.style.display =\n",
              "        google.colab.kernel.accessAllowed ? 'block' : 'none';\n",
              "\n",
              "      async function convertToInteractive(key) {\n",
              "        const element = document.querySelector('#df-60f63afc-1083-4008-a871-13e92354307a');\n",
              "        const dataTable =\n",
              "          await google.colab.kernel.invokeFunction('convertToInteractive',\n",
              "                                                    [key], {});\n",
              "        if (!dataTable) return;\n",
              "\n",
              "        const docLinkHtml = 'Like what you see? Visit the ' +\n",
              "          '<a target=\"_blank\" href=https://colab.research.google.com/notebooks/data_table.ipynb>data table notebook</a>'\n",
              "          + ' to learn more about interactive tables.';\n",
              "        element.innerHTML = '';\n",
              "        dataTable['output_type'] = 'display_data';\n",
              "        await google.colab.output.renderOutput(dataTable, element);\n",
              "        const docLink = document.createElement('div');\n",
              "        docLink.innerHTML = docLinkHtml;\n",
              "        element.appendChild(docLink);\n",
              "      }\n",
              "    </script>\n",
              "  </div>\n",
              "\n",
              "\n",
              "<div id=\"df-1ed92c75-6ee3-49aa-ad98-c10b29b49296\">\n",
              "  <button class=\"colab-df-quickchart\" onclick=\"quickchart('df-1ed92c75-6ee3-49aa-ad98-c10b29b49296')\"\n",
              "            title=\"Suggest charts\"\n",
              "            style=\"display:none;\">\n",
              "\n",
              "<svg xmlns=\"http://www.w3.org/2000/svg\" height=\"24px\"viewBox=\"0 0 24 24\"\n",
              "     width=\"24px\">\n",
              "    <g>\n",
              "        <path d=\"M19 3H5c-1.1 0-2 .9-2 2v14c0 1.1.9 2 2 2h14c1.1 0 2-.9 2-2V5c0-1.1-.9-2-2-2zM9 17H7v-7h2v7zm4 0h-2V7h2v10zm4 0h-2v-4h2v4z\"/>\n",
              "    </g>\n",
              "</svg>\n",
              "  </button>\n",
              "\n",
              "<style>\n",
              "  .colab-df-quickchart {\n",
              "      --bg-color: #E8F0FE;\n",
              "      --fill-color: #1967D2;\n",
              "      --hover-bg-color: #E2EBFA;\n",
              "      --hover-fill-color: #174EA6;\n",
              "      --disabled-fill-color: #AAA;\n",
              "      --disabled-bg-color: #DDD;\n",
              "  }\n",
              "\n",
              "  [theme=dark] .colab-df-quickchart {\n",
              "      --bg-color: #3B4455;\n",
              "      --fill-color: #D2E3FC;\n",
              "      --hover-bg-color: #434B5C;\n",
              "      --hover-fill-color: #FFFFFF;\n",
              "      --disabled-bg-color: #3B4455;\n",
              "      --disabled-fill-color: #666;\n",
              "  }\n",
              "\n",
              "  .colab-df-quickchart {\n",
              "    background-color: var(--bg-color);\n",
              "    border: none;\n",
              "    border-radius: 50%;\n",
              "    cursor: pointer;\n",
              "    display: none;\n",
              "    fill: var(--fill-color);\n",
              "    height: 32px;\n",
              "    padding: 0;\n",
              "    width: 32px;\n",
              "  }\n",
              "\n",
              "  .colab-df-quickchart:hover {\n",
              "    background-color: var(--hover-bg-color);\n",
              "    box-shadow: 0 1px 2px rgba(60, 64, 67, 0.3), 0 1px 3px 1px rgba(60, 64, 67, 0.15);\n",
              "    fill: var(--button-hover-fill-color);\n",
              "  }\n",
              "\n",
              "  .colab-df-quickchart-complete:disabled,\n",
              "  .colab-df-quickchart-complete:disabled:hover {\n",
              "    background-color: var(--disabled-bg-color);\n",
              "    fill: var(--disabled-fill-color);\n",
              "    box-shadow: none;\n",
              "  }\n",
              "\n",
              "  .colab-df-spinner {\n",
              "    border: 2px solid var(--fill-color);\n",
              "    border-color: transparent;\n",
              "    border-bottom-color: var(--fill-color);\n",
              "    animation:\n",
              "      spin 1s steps(1) infinite;\n",
              "  }\n",
              "\n",
              "  @keyframes spin {\n",
              "    0% {\n",
              "      border-color: transparent;\n",
              "      border-bottom-color: var(--fill-color);\n",
              "      border-left-color: var(--fill-color);\n",
              "    }\n",
              "    20% {\n",
              "      border-color: transparent;\n",
              "      border-left-color: var(--fill-color);\n",
              "      border-top-color: var(--fill-color);\n",
              "    }\n",
              "    30% {\n",
              "      border-color: transparent;\n",
              "      border-left-color: var(--fill-color);\n",
              "      border-top-color: var(--fill-color);\n",
              "      border-right-color: var(--fill-color);\n",
              "    }\n",
              "    40% {\n",
              "      border-color: transparent;\n",
              "      border-right-color: var(--fill-color);\n",
              "      border-top-color: var(--fill-color);\n",
              "    }\n",
              "    60% {\n",
              "      border-color: transparent;\n",
              "      border-right-color: var(--fill-color);\n",
              "    }\n",
              "    80% {\n",
              "      border-color: transparent;\n",
              "      border-right-color: var(--fill-color);\n",
              "      border-bottom-color: var(--fill-color);\n",
              "    }\n",
              "    90% {\n",
              "      border-color: transparent;\n",
              "      border-bottom-color: var(--fill-color);\n",
              "    }\n",
              "  }\n",
              "</style>\n",
              "\n",
              "  <script>\n",
              "    async function quickchart(key) {\n",
              "      const quickchartButtonEl =\n",
              "        document.querySelector('#' + key + ' button');\n",
              "      quickchartButtonEl.disabled = true;  // To prevent multiple clicks.\n",
              "      quickchartButtonEl.classList.add('colab-df-spinner');\n",
              "      try {\n",
              "        const charts = await google.colab.kernel.invokeFunction(\n",
              "            'suggestCharts', [key], {});\n",
              "      } catch (error) {\n",
              "        console.error('Error during call to suggestCharts:', error);\n",
              "      }\n",
              "      quickchartButtonEl.classList.remove('colab-df-spinner');\n",
              "      quickchartButtonEl.classList.add('colab-df-quickchart-complete');\n",
              "    }\n",
              "    (() => {\n",
              "      let quickchartButtonEl =\n",
              "        document.querySelector('#df-1ed92c75-6ee3-49aa-ad98-c10b29b49296 button');\n",
              "      quickchartButtonEl.style.display =\n",
              "        google.colab.kernel.accessAllowed ? 'block' : 'none';\n",
              "    })();\n",
              "  </script>\n",
              "</div>\n",
              "\n",
              "    </div>\n",
              "  </div>\n"
            ],
            "application/vnd.google.colaboratory.intrinsic+json": {
              "type": "dataframe",
              "variable_name": "links_movies_ratings"
            }
          },
          "metadata": {},
          "execution_count": 5
        }
      ]
    },
    {
      "cell_type": "code",
      "source": [
        "# drop columns\n",
        "links_movies_ratings.drop([\"imdbId\", \"tmdbId\", \"timestamp\"], axis=1, inplace=True)\n",
        "links_movies_ratings.head(5)"
      ],
      "metadata": {
        "colab": {
          "base_uri": "https://localhost:8080/",
          "height": 206
        },
        "id": "JLTVz-GlLyuG",
        "outputId": "3bc56e8a-72c3-424a-e4f9-2d68326295cf"
      },
      "execution_count": 7,
      "outputs": [
        {
          "output_type": "execute_result",
          "data": {
            "text/plain": [
              "   movieId             title                                       genres  \\\n",
              "0        1  Toy Story (1995)  Adventure|Animation|Children|Comedy|Fantasy   \n",
              "1        1  Toy Story (1995)  Adventure|Animation|Children|Comedy|Fantasy   \n",
              "2        1  Toy Story (1995)  Adventure|Animation|Children|Comedy|Fantasy   \n",
              "3        1  Toy Story (1995)  Adventure|Animation|Children|Comedy|Fantasy   \n",
              "4        1  Toy Story (1995)  Adventure|Animation|Children|Comedy|Fantasy   \n",
              "\n",
              "   userId  rating  \n",
              "0       1     4.0  \n",
              "1       5     4.0  \n",
              "2       7     4.5  \n",
              "3      15     2.5  \n",
              "4      17     4.5  "
            ],
            "text/html": [
              "\n",
              "  <div id=\"df-1b58116a-9527-4590-8075-16645dc57011\" class=\"colab-df-container\">\n",
              "    <div>\n",
              "<style scoped>\n",
              "    .dataframe tbody tr th:only-of-type {\n",
              "        vertical-align: middle;\n",
              "    }\n",
              "\n",
              "    .dataframe tbody tr th {\n",
              "        vertical-align: top;\n",
              "    }\n",
              "\n",
              "    .dataframe thead th {\n",
              "        text-align: right;\n",
              "    }\n",
              "</style>\n",
              "<table border=\"1\" class=\"dataframe\">\n",
              "  <thead>\n",
              "    <tr style=\"text-align: right;\">\n",
              "      <th></th>\n",
              "      <th>movieId</th>\n",
              "      <th>title</th>\n",
              "      <th>genres</th>\n",
              "      <th>userId</th>\n",
              "      <th>rating</th>\n",
              "    </tr>\n",
              "  </thead>\n",
              "  <tbody>\n",
              "    <tr>\n",
              "      <th>0</th>\n",
              "      <td>1</td>\n",
              "      <td>Toy Story (1995)</td>\n",
              "      <td>Adventure|Animation|Children|Comedy|Fantasy</td>\n",
              "      <td>1</td>\n",
              "      <td>4.0</td>\n",
              "    </tr>\n",
              "    <tr>\n",
              "      <th>1</th>\n",
              "      <td>1</td>\n",
              "      <td>Toy Story (1995)</td>\n",
              "      <td>Adventure|Animation|Children|Comedy|Fantasy</td>\n",
              "      <td>5</td>\n",
              "      <td>4.0</td>\n",
              "    </tr>\n",
              "    <tr>\n",
              "      <th>2</th>\n",
              "      <td>1</td>\n",
              "      <td>Toy Story (1995)</td>\n",
              "      <td>Adventure|Animation|Children|Comedy|Fantasy</td>\n",
              "      <td>7</td>\n",
              "      <td>4.5</td>\n",
              "    </tr>\n",
              "    <tr>\n",
              "      <th>3</th>\n",
              "      <td>1</td>\n",
              "      <td>Toy Story (1995)</td>\n",
              "      <td>Adventure|Animation|Children|Comedy|Fantasy</td>\n",
              "      <td>15</td>\n",
              "      <td>2.5</td>\n",
              "    </tr>\n",
              "    <tr>\n",
              "      <th>4</th>\n",
              "      <td>1</td>\n",
              "      <td>Toy Story (1995)</td>\n",
              "      <td>Adventure|Animation|Children|Comedy|Fantasy</td>\n",
              "      <td>17</td>\n",
              "      <td>4.5</td>\n",
              "    </tr>\n",
              "  </tbody>\n",
              "</table>\n",
              "</div>\n",
              "    <div class=\"colab-df-buttons\">\n",
              "\n",
              "  <div class=\"colab-df-container\">\n",
              "    <button class=\"colab-df-convert\" onclick=\"convertToInteractive('df-1b58116a-9527-4590-8075-16645dc57011')\"\n",
              "            title=\"Convert this dataframe to an interactive table.\"\n",
              "            style=\"display:none;\">\n",
              "\n",
              "  <svg xmlns=\"http://www.w3.org/2000/svg\" height=\"24px\" viewBox=\"0 -960 960 960\">\n",
              "    <path d=\"M120-120v-720h720v720H120Zm60-500h600v-160H180v160Zm220 220h160v-160H400v160Zm0 220h160v-160H400v160ZM180-400h160v-160H180v160Zm440 0h160v-160H620v160ZM180-180h160v-160H180v160Zm440 0h160v-160H620v160Z\"/>\n",
              "  </svg>\n",
              "    </button>\n",
              "\n",
              "  <style>\n",
              "    .colab-df-container {\n",
              "      display:flex;\n",
              "      gap: 12px;\n",
              "    }\n",
              "\n",
              "    .colab-df-convert {\n",
              "      background-color: #E8F0FE;\n",
              "      border: none;\n",
              "      border-radius: 50%;\n",
              "      cursor: pointer;\n",
              "      display: none;\n",
              "      fill: #1967D2;\n",
              "      height: 32px;\n",
              "      padding: 0 0 0 0;\n",
              "      width: 32px;\n",
              "    }\n",
              "\n",
              "    .colab-df-convert:hover {\n",
              "      background-color: #E2EBFA;\n",
              "      box-shadow: 0px 1px 2px rgba(60, 64, 67, 0.3), 0px 1px 3px 1px rgba(60, 64, 67, 0.15);\n",
              "      fill: #174EA6;\n",
              "    }\n",
              "\n",
              "    .colab-df-buttons div {\n",
              "      margin-bottom: 4px;\n",
              "    }\n",
              "\n",
              "    [theme=dark] .colab-df-convert {\n",
              "      background-color: #3B4455;\n",
              "      fill: #D2E3FC;\n",
              "    }\n",
              "\n",
              "    [theme=dark] .colab-df-convert:hover {\n",
              "      background-color: #434B5C;\n",
              "      box-shadow: 0px 1px 3px 1px rgba(0, 0, 0, 0.15);\n",
              "      filter: drop-shadow(0px 1px 2px rgba(0, 0, 0, 0.3));\n",
              "      fill: #FFFFFF;\n",
              "    }\n",
              "  </style>\n",
              "\n",
              "    <script>\n",
              "      const buttonEl =\n",
              "        document.querySelector('#df-1b58116a-9527-4590-8075-16645dc57011 button.colab-df-convert');\n",
              "      buttonEl.style.display =\n",
              "        google.colab.kernel.accessAllowed ? 'block' : 'none';\n",
              "\n",
              "      async function convertToInteractive(key) {\n",
              "        const element = document.querySelector('#df-1b58116a-9527-4590-8075-16645dc57011');\n",
              "        const dataTable =\n",
              "          await google.colab.kernel.invokeFunction('convertToInteractive',\n",
              "                                                    [key], {});\n",
              "        if (!dataTable) return;\n",
              "\n",
              "        const docLinkHtml = 'Like what you see? Visit the ' +\n",
              "          '<a target=\"_blank\" href=https://colab.research.google.com/notebooks/data_table.ipynb>data table notebook</a>'\n",
              "          + ' to learn more about interactive tables.';\n",
              "        element.innerHTML = '';\n",
              "        dataTable['output_type'] = 'display_data';\n",
              "        await google.colab.output.renderOutput(dataTable, element);\n",
              "        const docLink = document.createElement('div');\n",
              "        docLink.innerHTML = docLinkHtml;\n",
              "        element.appendChild(docLink);\n",
              "      }\n",
              "    </script>\n",
              "  </div>\n",
              "\n",
              "\n",
              "<div id=\"df-70236df1-9899-4620-9ad5-9e3bbb492a07\">\n",
              "  <button class=\"colab-df-quickchart\" onclick=\"quickchart('df-70236df1-9899-4620-9ad5-9e3bbb492a07')\"\n",
              "            title=\"Suggest charts\"\n",
              "            style=\"display:none;\">\n",
              "\n",
              "<svg xmlns=\"http://www.w3.org/2000/svg\" height=\"24px\"viewBox=\"0 0 24 24\"\n",
              "     width=\"24px\">\n",
              "    <g>\n",
              "        <path d=\"M19 3H5c-1.1 0-2 .9-2 2v14c0 1.1.9 2 2 2h14c1.1 0 2-.9 2-2V5c0-1.1-.9-2-2-2zM9 17H7v-7h2v7zm4 0h-2V7h2v10zm4 0h-2v-4h2v4z\"/>\n",
              "    </g>\n",
              "</svg>\n",
              "  </button>\n",
              "\n",
              "<style>\n",
              "  .colab-df-quickchart {\n",
              "      --bg-color: #E8F0FE;\n",
              "      --fill-color: #1967D2;\n",
              "      --hover-bg-color: #E2EBFA;\n",
              "      --hover-fill-color: #174EA6;\n",
              "      --disabled-fill-color: #AAA;\n",
              "      --disabled-bg-color: #DDD;\n",
              "  }\n",
              "\n",
              "  [theme=dark] .colab-df-quickchart {\n",
              "      --bg-color: #3B4455;\n",
              "      --fill-color: #D2E3FC;\n",
              "      --hover-bg-color: #434B5C;\n",
              "      --hover-fill-color: #FFFFFF;\n",
              "      --disabled-bg-color: #3B4455;\n",
              "      --disabled-fill-color: #666;\n",
              "  }\n",
              "\n",
              "  .colab-df-quickchart {\n",
              "    background-color: var(--bg-color);\n",
              "    border: none;\n",
              "    border-radius: 50%;\n",
              "    cursor: pointer;\n",
              "    display: none;\n",
              "    fill: var(--fill-color);\n",
              "    height: 32px;\n",
              "    padding: 0;\n",
              "    width: 32px;\n",
              "  }\n",
              "\n",
              "  .colab-df-quickchart:hover {\n",
              "    background-color: var(--hover-bg-color);\n",
              "    box-shadow: 0 1px 2px rgba(60, 64, 67, 0.3), 0 1px 3px 1px rgba(60, 64, 67, 0.15);\n",
              "    fill: var(--button-hover-fill-color);\n",
              "  }\n",
              "\n",
              "  .colab-df-quickchart-complete:disabled,\n",
              "  .colab-df-quickchart-complete:disabled:hover {\n",
              "    background-color: var(--disabled-bg-color);\n",
              "    fill: var(--disabled-fill-color);\n",
              "    box-shadow: none;\n",
              "  }\n",
              "\n",
              "  .colab-df-spinner {\n",
              "    border: 2px solid var(--fill-color);\n",
              "    border-color: transparent;\n",
              "    border-bottom-color: var(--fill-color);\n",
              "    animation:\n",
              "      spin 1s steps(1) infinite;\n",
              "  }\n",
              "\n",
              "  @keyframes spin {\n",
              "    0% {\n",
              "      border-color: transparent;\n",
              "      border-bottom-color: var(--fill-color);\n",
              "      border-left-color: var(--fill-color);\n",
              "    }\n",
              "    20% {\n",
              "      border-color: transparent;\n",
              "      border-left-color: var(--fill-color);\n",
              "      border-top-color: var(--fill-color);\n",
              "    }\n",
              "    30% {\n",
              "      border-color: transparent;\n",
              "      border-left-color: var(--fill-color);\n",
              "      border-top-color: var(--fill-color);\n",
              "      border-right-color: var(--fill-color);\n",
              "    }\n",
              "    40% {\n",
              "      border-color: transparent;\n",
              "      border-right-color: var(--fill-color);\n",
              "      border-top-color: var(--fill-color);\n",
              "    }\n",
              "    60% {\n",
              "      border-color: transparent;\n",
              "      border-right-color: var(--fill-color);\n",
              "    }\n",
              "    80% {\n",
              "      border-color: transparent;\n",
              "      border-right-color: var(--fill-color);\n",
              "      border-bottom-color: var(--fill-color);\n",
              "    }\n",
              "    90% {\n",
              "      border-color: transparent;\n",
              "      border-bottom-color: var(--fill-color);\n",
              "    }\n",
              "  }\n",
              "</style>\n",
              "\n",
              "  <script>\n",
              "    async function quickchart(key) {\n",
              "      const quickchartButtonEl =\n",
              "        document.querySelector('#' + key + ' button');\n",
              "      quickchartButtonEl.disabled = true;  // To prevent multiple clicks.\n",
              "      quickchartButtonEl.classList.add('colab-df-spinner');\n",
              "      try {\n",
              "        const charts = await google.colab.kernel.invokeFunction(\n",
              "            'suggestCharts', [key], {});\n",
              "      } catch (error) {\n",
              "        console.error('Error during call to suggestCharts:', error);\n",
              "      }\n",
              "      quickchartButtonEl.classList.remove('colab-df-spinner');\n",
              "      quickchartButtonEl.classList.add('colab-df-quickchart-complete');\n",
              "    }\n",
              "    (() => {\n",
              "      let quickchartButtonEl =\n",
              "        document.querySelector('#df-70236df1-9899-4620-9ad5-9e3bbb492a07 button');\n",
              "      quickchartButtonEl.style.display =\n",
              "        google.colab.kernel.accessAllowed ? 'block' : 'none';\n",
              "    })();\n",
              "  </script>\n",
              "</div>\n",
              "\n",
              "    </div>\n",
              "  </div>\n"
            ],
            "application/vnd.google.colaboratory.intrinsic+json": {
              "type": "dataframe",
              "variable_name": "links_movies_ratings"
            }
          },
          "metadata": {},
          "execution_count": 7
        }
      ]
    },
    {
      "cell_type": "code",
      "execution_count": 6,
      "metadata": {
        "colab": {
          "base_uri": "https://localhost:8080/",
          "height": 335
        },
        "id": "rG2fRSwljBe1",
        "outputId": "aa1e8acb-c752-4658-dd53-678f22512109"
      },
      "outputs": [
        {
          "output_type": "execute_result",
          "data": {
            "text/plain": [
              "movieId      0\n",
              "imdbId       0\n",
              "tmdbId       0\n",
              "title        0\n",
              "genres       0\n",
              "userId       0\n",
              "rating       0\n",
              "timestamp    0\n",
              "dtype: int64"
            ],
            "text/html": [
              "<div>\n",
              "<style scoped>\n",
              "    .dataframe tbody tr th:only-of-type {\n",
              "        vertical-align: middle;\n",
              "    }\n",
              "\n",
              "    .dataframe tbody tr th {\n",
              "        vertical-align: top;\n",
              "    }\n",
              "\n",
              "    .dataframe thead th {\n",
              "        text-align: right;\n",
              "    }\n",
              "</style>\n",
              "<table border=\"1\" class=\"dataframe\">\n",
              "  <thead>\n",
              "    <tr style=\"text-align: right;\">\n",
              "      <th></th>\n",
              "      <th>0</th>\n",
              "    </tr>\n",
              "  </thead>\n",
              "  <tbody>\n",
              "    <tr>\n",
              "      <th>movieId</th>\n",
              "      <td>0</td>\n",
              "    </tr>\n",
              "    <tr>\n",
              "      <th>imdbId</th>\n",
              "      <td>0</td>\n",
              "    </tr>\n",
              "    <tr>\n",
              "      <th>tmdbId</th>\n",
              "      <td>0</td>\n",
              "    </tr>\n",
              "    <tr>\n",
              "      <th>title</th>\n",
              "      <td>0</td>\n",
              "    </tr>\n",
              "    <tr>\n",
              "      <th>genres</th>\n",
              "      <td>0</td>\n",
              "    </tr>\n",
              "    <tr>\n",
              "      <th>userId</th>\n",
              "      <td>0</td>\n",
              "    </tr>\n",
              "    <tr>\n",
              "      <th>rating</th>\n",
              "      <td>0</td>\n",
              "    </tr>\n",
              "    <tr>\n",
              "      <th>timestamp</th>\n",
              "      <td>0</td>\n",
              "    </tr>\n",
              "  </tbody>\n",
              "</table>\n",
              "</div><br><label><b>dtype:</b> int64</label>"
            ]
          },
          "metadata": {},
          "execution_count": 6
        }
      ],
      "source": [
        "# handle missing value\n",
        "links_movies_ratings.dropna(inplace=True)\n",
        "links_movies_ratings.isnull().sum()"
      ]
    },
    {
      "cell_type": "code",
      "source": [
        "# Standardizing User ID & Movie ID for better numerical stability\n",
        "scaler = StandardScaler()\n",
        "\n",
        "# Apply StandardScaler to userId and movieId\n",
        "ratings[['userId', 'movieId']] = scaler.fit_transform(ratings[['userId', 'movieId']])\n",
        "\n",
        "# Convert back to integers after scaling\n",
        "ratings[['userId', 'movieId']] = ratings[['userId', 'movieId']].astype(int)"
      ],
      "metadata": {
        "id": "trfV3rjOju9P"
      },
      "execution_count": 10,
      "outputs": []
    },
    {
      "cell_type": "markdown",
      "source": [
        "## DATA PREPROSSESSING"
      ],
      "metadata": {
        "id": "A09IYQNp884M"
      }
    },
    {
      "cell_type": "code",
      "source": [
        "# Data Preprocessing Pipeline\n",
        "def preprocess_movies(movies_df):\n",
        "    movies_df['genres'] = movies['genres'].str.replace('|', ' ')\n",
        "    vectorizer = TfidfVectorizer(stop_words='english')\n",
        "    genre_matrix = vectorizer.fit_transform(movies_df['genres'])\n",
        "    return genre_matrix\n",
        "\n",
        "movies_tfidf_matrix = preprocess_movies(movies)\n",
        "movies_tfidf_matrix.shape"
      ],
      "metadata": {
        "colab": {
          "base_uri": "https://localhost:8080/"
        },
        "id": "hWPufHCZ9FQv",
        "outputId": "b7321be5-943e-430f-a646-a6dae88cc6f9"
      },
      "execution_count": 13,
      "outputs": [
        {
          "output_type": "execute_result",
          "data": {
            "text/plain": [
              "(9742, 23)"
            ]
          },
          "metadata": {},
          "execution_count": 13
        }
      ]
    },
    {
      "cell_type": "markdown",
      "metadata": {
        "id": "0pfL5BecLIqx"
      },
      "source": [
        "## EXPLORATORY DATA ANALYSIS (EDA)\n",
        "\n",
        "*   Basic statistics.\n",
        "*   Data visualization.\n",
        "\n"
      ]
    },
    {
      "cell_type": "markdown",
      "metadata": {
        "id": "taGmNI1XL3an"
      },
      "source": [
        "###  1.Rating"
      ]
    },
    {
      "cell_type": "code",
      "execution_count": 11,
      "metadata": {
        "colab": {
          "base_uri": "https://localhost:8080/",
          "height": 564
        },
        "id": "FHKaxoSqL2fK",
        "outputId": "9787df24-39f3-47fd-b2a0-6d6618737faf"
      },
      "outputs": [
        {
          "output_type": "display_data",
          "data": {
            "text/plain": [
              "<Figure size 800x600 with 1 Axes>"
            ],
            "image/png": "[encoded data removed]"
          },
          "metadata": {}
        }
      ],
      "source": [
        "# EDA for rating: plot histogram\n",
        "plt.figure(figsize=(8, 6))\n",
        "sns.histplot(links_movies_ratings['rating'], bins=20, kde=True)\n",
        "plt.title('Distribution of Ratings')\n",
        "plt.xlabel('Rating')\n",
        "plt.ylabel('Count')\n",
        "plt.show()"
      ]
    },
    {
      "cell_type": "markdown",
      "source": [
        "**EXPLANATION**\n",
        "\n",
        "> The Histogram shows that majority of the movies are rated 4 while very few had a rating of 1.\n",
        "\n",
        "\n",
        "> The distribution is skewed towards higher ratings, with the highest frequency at Rating 4.\n",
        "\n",
        "> As the ratings increase from 1 to 5, the number of counts increases too, showing that more movies received higher ratings.\n",
        "\n",
        "\n",
        "> This pattern suggests that, in this dataset, movies are more likely to receive higher ratings than lower ones.\n",
        "\n",
        "\n",
        "\n",
        "\n",
        "\n",
        "\n",
        "\n",
        "\n",
        "\n",
        "\n",
        "\n",
        "\n"
      ],
      "metadata": {
        "id": "4f1bqmraN9RN"
      }
    },
    {
      "cell_type": "markdown",
      "metadata": {
        "id": "jkntny3mNqzS"
      },
      "source": [
        "### 2.Genre:"
      ]
    },
    {
      "cell_type": "code",
      "execution_count": 12,
      "metadata": {
        "colab": {
          "base_uri": "https://localhost:8080/",
          "height": 940
        },
        "id": "5PsbPpSXLLe6",
        "outputId": "90ea8956-795c-4e19-cfac-5a5b1dec3104"
      },
      "outputs": [
        {
          "output_type": "stream",
          "name": "stdout",
          "text": [
            "Genre counts:\n",
            "       genre  count\n",
            "0      Drama  41926\n",
            "1     Comedy  39050\n",
            "2     Action  30635\n",
            "3   Thriller  26448\n",
            "4  Adventure  24157\n"
          ]
        },
        {
          "output_type": "display_data",
          "data": {
            "text/plain": [
              "<Figure size 1500x800 with 1 Axes>"
            ],
            "image/png": "[encoded data removed]"
          },
          "metadata": {}
        }
      ],
      "source": [
        "# Each movie can have multiple genres separated by '|'. We need to split them.\n",
        "\n",
        "# Create a copy of the dataframe to explode genres\n",
        "df_genre = links_movies_ratings.copy()\n",
        "# Replace '(no genres listed)' with NaN maybe\n",
        "# Split genres by '|'\n",
        "df_genre['genres'] = df_genre['genres'].fillna('')\n",
        "df_genre = df_genre.assign(genre = df_genre['genres'].str.split('\\|'))\n",
        "\n",
        "# Explode to have one genre per row\n",
        "df_exploded = df_genre.explode('genre')\n",
        "\n",
        "# Count per genre overall\n",
        "genre_counts = df_exploded['genre'].value_counts().reset_index()\n",
        "genre_counts.columns = ['genre', 'count']\n",
        "print('Genre counts:')\n",
        "print(genre_counts.head(5))\n",
        "\n",
        "# Plot genre counts\n",
        "plt.figure(figsize=(15, 8))\n",
        "sns.barplot(data=genre_counts, x='genre', y='count')\n",
        "plt.title('Counts of Movies by Genre')\n",
        "plt.xlabel('Genre')\n",
        "plt.ylabel('Count')\n",
        "plt.xticks(rotation=55)\n",
        "plt.show()"
      ]
    },
    {
      "cell_type": "markdown",
      "source": [
        "**EXPLANATION**\n",
        "\n",
        "> Drama is the most frequent genre, with over 40,000 movies. It is followed closely by Comedy and Action, which also have large counts. Genres such as Thriller, Adventure, and Romance appear in the middle range, with counts significantly lower than Drama but still in the high teens to low 20,000s\n",
        "\n",
        "\n",
        "\n",
        "> On the other end of the spectrum, genres like Western, Documentary, and Film-Noir are much less frequent, with counts well under 5,000.\n",
        "\n",
        "\n"
      ],
      "metadata": {
        "id": "XFsn_adHcmkN"
      }
    },
    {
      "cell_type": "markdown",
      "metadata": {
        "id": "Su29SiB0bd41"
      },
      "source": [
        "### 3.Rating by Title"
      ]
    },
    {
      "cell_type": "code",
      "execution_count": 14,
      "metadata": {
        "colab": {
          "base_uri": "https://localhost:8080/"
        },
        "id": "R8AEPjSka1Sh",
        "outputId": "1977b118-1c35-45d0-97dd-a87a67c84368"
      },
      "outputs": [
        {
          "output_type": "stream",
          "name": "stdout",
          "text": [
            "Average rating per title:\n",
            "                                                  title  rating\n",
            "3352                          Gena the Crocodile (1969)     5.0\n",
            "214                          Act of Killing, The (2012)     5.0\n",
            "4136                           Hunting Elephants (2013)     5.0\n",
            "6429                                 Palindromes (2004)     5.0\n",
            "858   Battle Royale 2: Requiem (Batoru rowaiaru II: ...     5.0\n",
            "2522         Dr. Goldfoot and the Bikini Machine (1965)     5.0\n",
            "5585                                    Mephisto (1981)     5.0\n",
            "6765                                      Presto (2008)     5.0\n",
            "3164  Four Days in September (O Que É Isso, Companhe...     5.0\n",
            "2508                          Down Argentine Way (1940)     5.0\n",
            "4152                                       Hype! (1996)     5.0\n",
            "3169                           Four Seasons, The (1981)     5.0\n",
            "8392  The Adventures of Sherlock Holmes and Doctor W...     5.0\n",
            "5542                                    Meantime (1984)     5.0\n",
            "8393  The Adventures of Sherlock Holmes and Doctor W...     5.0\n",
            "4157                         I Am Not Your Negro (2017)     5.0\n",
            "8395  The Adventures of Sherlock Holmes and Doctor W...     5.0\n",
            "855                        Battle For Sevastopol (2015)     5.0\n",
            "9282                     Watching the Detectives (2007)     5.0\n",
            "6784           Priklyucheniya Kapitana Vrungelya (1979)     5.0\n"
          ]
        }
      ],
      "source": [
        "# Rating group by title\n",
        "avg_rating_title = links_movies_ratings.groupby('title')['rating'].mean().reset_index()\n",
        "avg_rating_title = avg_rating_title.sort_values('rating', ascending=False)\n",
        "print('Average rating per title:')\n",
        "print(avg_rating_title.head(20))\n",
        "# consider count"
      ]
    },
    {
      "cell_type": "markdown",
      "metadata": {
        "id": "PheLG64rObf5"
      },
      "source": [
        "### 4.Rating per Genre"
      ]
    },
    {
      "cell_type": "code",
      "execution_count": 1,
      "metadata": {
        "colab": {
          "base_uri": "https://localhost:8080/",
          "height": 219
        },
        "id": "1eY9Co2POFug",
        "outputId": "932c693e-89cf-48b2-c600-5c251b4932b7"
      },
      "outputs": [
        {
          "output_type": "error",
          "ename": "NameError",
          "evalue": "name 'df_exploded' is not defined",
          "traceback": [
            "\u001b[0;31m---------------------------------------------------------------------------\u001b[0m",
            "\u001b[0;31mNameError\u001b[0m                                 Traceback (most recent call last)",
            "\u001b[0;32m<ipython-input-1-2d83b7758389>\u001b[0m in \u001b[0;36m<cell line: 0>\u001b[0;34m()\u001b[0m\n\u001b[1;32m      1\u001b[0m \u001b[0;31m# calculate average rating per genre\u001b[0m\u001b[0;34m\u001b[0m\u001b[0;34m\u001b[0m\u001b[0m\n\u001b[0;32m----> 2\u001b[0;31m \u001b[0mavg_rating_genre\u001b[0m \u001b[0;34m=\u001b[0m \u001b[0mdf_exploded\u001b[0m\u001b[0;34m.\u001b[0m\u001b[0mgroupby\u001b[0m\u001b[0;34m(\u001b[0m\u001b[0;34m'genre'\u001b[0m\u001b[0;34m)\u001b[0m\u001b[0;34m[\u001b[0m\u001b[0;34m'rating'\u001b[0m\u001b[0;34m]\u001b[0m\u001b[0;34m.\u001b[0m\u001b[0mmean\u001b[0m\u001b[0;34m(\u001b[0m\u001b[0;34m)\u001b[0m\u001b[0;34m.\u001b[0m\u001b[0mreset_index\u001b[0m\u001b[0;34m(\u001b[0m\u001b[0;34m)\u001b[0m\u001b[0;34m\u001b[0m\u001b[0;34m\u001b[0m\u001b[0m\n\u001b[0m\u001b[1;32m      3\u001b[0m \u001b[0mavg_rating_genre\u001b[0m \u001b[0;34m=\u001b[0m \u001b[0mavg_rating_genre\u001b[0m\u001b[0;34m.\u001b[0m\u001b[0msort_values\u001b[0m\u001b[0;34m(\u001b[0m\u001b[0;34m'rating'\u001b[0m\u001b[0;34m,\u001b[0m \u001b[0mascending\u001b[0m\u001b[0;34m=\u001b[0m\u001b[0;32mFalse\u001b[0m\u001b[0;34m)\u001b[0m\u001b[0;34m\u001b[0m\u001b[0;34m\u001b[0m\u001b[0m\n\u001b[1;32m      4\u001b[0m \u001b[0mprint\u001b[0m\u001b[0;34m(\u001b[0m\u001b[0;34m'Average rating per genre:'\u001b[0m\u001b[0;34m)\u001b[0m\u001b[0;34m\u001b[0m\u001b[0;34m\u001b[0m\u001b[0m\n\u001b[1;32m      5\u001b[0m \u001b[0mprint\u001b[0m\u001b[0;34m(\u001b[0m\u001b[0mavg_rating_genre\u001b[0m\u001b[0;34m)\u001b[0m\u001b[0;34m\u001b[0m\u001b[0;34m\u001b[0m\u001b[0m\n",
            "\u001b[0;31mNameError\u001b[0m: name 'df_exploded' is not defined"
          ]
        }
      ],
      "source": [
        "# calculate average rating per genre\n",
        "avg_rating_genre = df_exploded.groupby('genre')['rating'].mean().reset_index()\n",
        "avg_rating_genre = avg_rating_genre.sort_values('rating', ascending=False)\n",
        "print('Average rating per genre:')\n",
        "print(avg_rating_genre)"
      ]
    },
    {
      "cell_type": "markdown",
      "source": [
        "### 5.Correlation Analysis"
      ],
      "metadata": {
        "id": "KlNaX-a3mqSh"
      }
    },
    {
      "cell_type": "code",
      "source": [
        "# Create a user-item matrix and compute correlation between movies\n",
        "user_item_matrix = links_movies_ratings.pivot(index='userId', columns='movieId', values='rating')\n",
        "\n",
        "# Compute correlation matrix for movies (columns correlation)\n",
        "movie_corr = user_item_matrix.corr()\n",
        "\n",
        "# print('Correlation matrix for movies:')\n",
        "# print(movie_corr)\n",
        "\n",
        "# Visualize the correlation matrix using a heatmap\n",
        "plt.figure(figsize=(8, 6))\n",
        "sns.heatmap(movie_corr, annot=True, cmap='Blues', center=0)\n",
        "plt.title('Correlation Matrix of Movies based on User Ratings')\n",
        "plt.show()\n",
        "\n",
        "# # Save the correlation matrix to CSV file\n",
        "# movie_corr.to_csv('movie_correlation_matrix.csv')"
      ],
      "metadata": {
        "id": "4CkOHaH2mvDB"
      },
      "execution_count": null,
      "outputs": []
    },
    {
      "cell_type": "markdown",
      "metadata": {
        "id": "wEGS-u7DjBe3"
      },
      "source": [
        "### Preparing the data for Surprise"
      ]
    },
    {
      "cell_type": "code",
      "execution_count": null,
      "metadata": {
        "id": "Tt50m_RsRCUF"
      },
      "outputs": [],
      "source": [
        "# Define the rating scale from the min to the max\n",
        "links_movies_ratings[\"rating\"].min() # =0.5\n",
        "links_movies_ratings[\"rating\"].max() # = 5.0\n",
        "reader = Reader(rating_scale=(0.5, 5.0))\n",
        "\n",
        "# Load the data from the pandas dataframe into a Surprise Dataset\n",
        "data = Dataset.load_from_df(links_movies_ratings[['userId', 'movieId', 'rating']], reader)\n",
        "\n",
        "# To further inspect the built dataset, you could build the full trainset\n",
        "trainset = data.build_full_trainset()\n",
        "print(\"Number of users: \" + str(trainset.n_users))\n",
        "print(\"Number of items: \" + str(trainset.n_items))\n"
      ]
    },
    {
      "cell_type": "markdown",
      "metadata": {
        "id": "jA2KTUX1jBe5"
      },
      "source": [
        "### Split and Train the data"
      ]
    },
    {
      "cell_type": "code",
      "execution_count": null,
      "metadata": {
        "id": "LQVPXa47fs55"
      },
      "outputs": [],
      "source": [
        "# Define the rating scale\n",
        "reader = Reader(rating_scale=(0.5, 5.0))\n",
        "\n",
        "# Load data into Surprise Dataset\n",
        "data = Dataset.load_from_df(links_movies_ratings[['userId', 'movieId', 'rating']], reader)\n",
        "\n",
        "# Split the dataset into training and testing set\n",
        "trainset, testset = train_test_split(data, test_size=0.25, random_state=42)"
      ]
    },
    {
      "cell_type": "markdown",
      "metadata": {
        "id": "98MxGjQlf2SY"
      },
      "source": [
        "Training a basic SVD model"
      ]
    },
    {
      "cell_type": "code",
      "execution_count": null,
      "metadata": {
        "id": "ntKdlm4baSR0"
      },
      "outputs": [],
      "source": [
        "# Train a basic SVD model on the training set\n",
        "algo = SVD(random_state=42)\n",
        "algo.fit(trainset)\n",
        "\n",
        "# Predict on the testset\n",
        "predictions = algo.test(testset)\n",
        "\n",
        "# Compute and print RMSE\n",
        "rmse = accuracy.rmse(predictions)\n",
        "\n",
        "print('RMSE on test set:', rmse)\n",
        "print('Number of predictions:', len(predictions))"
      ]
    },
    {
      "cell_type": "markdown",
      "metadata": {
        "id": "WwPEKxYgzkTP"
      },
      "source": [
        "### Collaborative based filtering - Using Item Base"
      ]
    },
    {
      "cell_type": "markdown",
      "source": [
        "#### Configure the model"
      ],
      "metadata": {
        "id": "d1lvfbHzPDmu"
      }
    },
    {
      "cell_type": "code",
      "execution_count": null,
      "metadata": {
        "colab": {
          "base_uri": "https://localhost:8080/",
          "height": 211
        },
        "id": "3XDuJ9k_k-uV",
        "outputId": "b4ba4a45-a8e0-4d55-9f1a-f7c883328295"
      },
      "outputs": [
        {
          "output_type": "error",
          "ename": "NameError",
          "evalue": "name 'KNNBasic' is not defined",
          "traceback": [
            "\u001b[0;31m---------------------------------------------------------------------------\u001b[0m",
            "\u001b[0;31mNameError\u001b[0m                                 Traceback (most recent call last)",
            "\u001b[0;32m<ipython-input-1-75dc94e4241b>\u001b[0m in \u001b[0;36m<cell line: 0>\u001b[0;34m()\u001b[0m\n\u001b[1;32m      6\u001b[0m \u001b[0;34m\u001b[0m\u001b[0m\n\u001b[1;32m      7\u001b[0m \u001b[0;31m# Build the model using the KNNBasic algorithm\u001b[0m\u001b[0;34m\u001b[0m\u001b[0;34m\u001b[0m\u001b[0m\n\u001b[0;32m----> 8\u001b[0;31m \u001b[0mitem_cf_model\u001b[0m \u001b[0;34m=\u001b[0m \u001b[0mKNNBasic\u001b[0m\u001b[0;34m(\u001b[0m\u001b[0msim_options\u001b[0m\u001b[0;34m=\u001b[0m\u001b[0msim_options\u001b[0m\u001b[0;34m)\u001b[0m\u001b[0;34m\u001b[0m\u001b[0;34m\u001b[0m\u001b[0m\n\u001b[0m\u001b[1;32m      9\u001b[0m \u001b[0;34m\u001b[0m\u001b[0m\n\u001b[1;32m     10\u001b[0m \u001b[0;31m# Train the model on the training set\u001b[0m\u001b[0;34m\u001b[0m\u001b[0;34m\u001b[0m\u001b[0m\n",
            "\u001b[0;31mNameError\u001b[0m: name 'KNNBasic' is not defined"
          ]
        }
      ],
      "source": [
        "# Define similarity options\n",
        "sim_options = {\n",
        "    'name': 'cosine',  # Use cosine similarity to measure the similarity between items\n",
        "    'user_based': False  # Set to False for item-based filtering (True would be for user-based filtering)\n",
        "}\n",
        "\n",
        "# Build the model using the KNNBasic algorithm\n",
        "item_cf_model = KNNBasic(sim_options=sim_options)\n",
        "\n",
        "# Train the model on the training set\n",
        "item_cf_model.fit(trainset)"
      ]
    },
    {
      "cell_type": "code",
      "source": [
        "sim_cosine = {\"name\": \"cosine\", \"user_based\": False}\n",
        "basic_cosine = knns.KNNBasic(sim_options=sim_cosine)\n",
        "basic_cosine.fit(trainset)\n",
        "predictions = basic_cosine.test(testset)\n",
        "print(accuracy.rmse(predictions))"
      ],
      "metadata": {
        "id": "NKkWbgahMzfZ"
      },
      "execution_count": null,
      "outputs": []
    },
    {
      "cell_type": "markdown",
      "metadata": {
        "id": "jKNd0QKO5iLm"
      },
      "source": [
        "#### TRaining the model"
      ]
    },
    {
      "cell_type": "code",
      "execution_count": null,
      "metadata": {
        "id": "6xOXDTxj_EpX"
      },
      "outputs": [],
      "source": [
        "# Define movie titles\n",
        "movie_title_1 = \"Avenger\"\n",
        "movie_title_2 = \"Ex Drummer\"\n",
        "\n",
        "# Find the movie IDs for the given titles from the combined DataFrame\n",
        "movie_id_1 =links_movies_ratings[links_movies_ratings['title'].str.contains(movie_title_1, case=False, na=False)]['movieId'].values\n",
        "movie_id_2 = links_movies_ratings[links_movies_ratings['title'].str.contains(movie_title_2, case=False, na=False)]['movieId'].values\n",
        "\n",
        "# Check if the movie titles were found\n",
        "if len(movie_id_1) > 0:\n",
        "    rating_1 = links_movies_ratings[links_movies_ratings['movieId'] == movie_id_1[0]]['rating'].values[0]\n",
        "    print(f\"Movie: {movie_title_1}, Rating: {rating_1}\")\n",
        "else:\n",
        "    print(f\"Movie '{movie_title_1}' not found.\")\n",
        "\n",
        "if len(movie_id_2) > 0:\n",
        "    rating_2 = links_movies_ratings[links_movies_ratings['movieId'] == movie_id_2[0]]['rating'].values[0]\n",
        "    print(f\"Movie: {movie_title_2}, Rating: {rating_2}\")\n",
        "else:\n",
        "    print(f\"Movie '{movie_title_2}' not found.\")\n"
      ]
    },
    {
      "cell_type": "markdown",
      "metadata": {
        "id": "H-K3Ig5MEl5i"
      },
      "source": [
        "###  Making Recommendations Based on a Movie Title**"
      ]
    },
    {
      "cell_type": "code",
      "source": [
        "def get_similar_movies(movie_title, model, trainset, movies_df, top_n=5):\n",
        "    # Find the movie ID for the given title\n",
        "    movie_id = movies_df[movies_df['title'].str.contains(movie_title, case=False, na=False)]['movieId'].values\n",
        "\n",
        "    # Convert the movieId to an internal ID used by Surprise (trainset)\n",
        "    movie_inner_id = trainset.to_inner_iid(movie_id[0])\n",
        "\n",
        "    # Get the top N most similar movies using the KNN model's get_neighbors function\n",
        "    neighbors = model.get_neighbors(movie_inner_id, k=top_n)\n",
        "\n",
        "    # Map internal IDs back to movie titles\n",
        "    similar_titles = [(movies_df[movies_df['movieId'] == int(trainset.to_raw_iid(neighbor))]['title'].values[0])\n",
        "                      for neighbor in neighbors]\n",
        "\n",
        "    return similar_titles"
      ],
      "metadata": {
        "id": "uOqekBKmU_db"
      },
      "execution_count": null,
      "outputs": []
    },
    {
      "cell_type": "code",
      "source": [
        "# Movie title input\n",
        "movie_title = \"Shooter\"\n",
        "\n",
        "# Get the top 5 similar movies\n",
        "recommended_movies = get_similar_movies(movie_title, item_cf_model, trainset, links_movies_ratings, top_n=5)\n",
        "\n",
        "# Print the recommended movies (only titles)\n",
        "if isinstance(recommended_movies, list):\n",
        "    print(f\"Top 5 similar movies to '{movie_title}':\")\n",
        "    for movie in recommended_movies:\n",
        "        print(movie)\n",
        "else:\n",
        "    print(recommended_movies)"
      ],
      "metadata": {
        "id": "d4hZxBBeUSIi"
      },
      "execution_count": null,
      "outputs": []
    }
  ],
  "metadata": {
    "colab": {
      "provenance": [],
      "toc_visible": true
    },
    "kernelspec": {
      "display_name": "Python 3",
      "language": "python",
      "name": "python3"
    },
    "language_info": {
      "codemirror_mode": {
        "name": "ipython",
        "version": 3
      },
      "file_extension": ".py",
      "mimetype": "text/x-python",
      "name": "python",
      "nbconvert_exporter": "python",
      "pygments_lexer": "ipython3",
      "version": "3.12.9"
    }
  },
  "nbformat": 4,
  "nbformat_minor": 0
}